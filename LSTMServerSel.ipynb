{
 "cells": [
  {
   "cell_type": "markdown",
   "id": "3bddfae3-6227-461d-8fa3-0343779225b6",
   "metadata": {},
   "source": [
    "# Libraries"
   ]
  },
  {
   "cell_type": "code",
   "execution_count": null,
   "id": "1eaca4fa-6c25-4d00-895d-ff04fecd6d85",
   "metadata": {},
   "outputs": [],
   "source": [
    "import pandas as pd\n",
    "import numpy as np\n",
    "from sklearn.model_selection import train_test_split\n",
    "from sklearn.preprocessing import StandardScaler\n",
    "from sklearn.metrics import confusion_matrix, ConfusionMatrixDisplay\n",
    "import tensorflow as tf\n",
    "import matplotlib.pyplot as plt\n",
    "from tensorflow.keras.preprocessing.sequence import pad_sequences"
   ]
  },
  {
   "cell_type": "markdown",
   "id": "b79a634b-8abc-44f8-ae55-1bbc265e6444",
   "metadata": {},
   "source": [
    "# Load Data"
   ]
  },
  {
   "cell_type": "code",
   "execution_count": null,
   "id": "5d793b07-7ac9-4146-b855-86bf0a7d22b9",
   "metadata": {},
   "outputs": [],
   "source": [
    "# Load and preprocess data\n",
    "file_path = r'C:\\Users\\File.csv'\n",
    "data = pd.read_csv(file_path)\n",
    "\n",
    "data = data[data['SourceISP'] != 'Rogers']"
   ]
  },
  {
   "cell_type": "markdown",
   "id": "ad2472db-a403-4822-90f4-5a7e490a5fc3",
   "metadata": {},
   "source": [
    "# Data Mapping"
   ]
  },
  {
   "cell_type": "code",
   "execution_count": null,
   "id": "1e6d2a13-4b05-47ee-a3f0-91c1f7c60c3f",
   "metadata": {},
   "outputs": [],
   "source": [
    "# Map each unique 'Source' IP to a Server ID\n",
    "unique_servers = data['SourceIP'].unique()\n",
    "server_mapping = {ip: idx for idx, ip in enumerate(unique_servers)}\n",
    "data['ServerID'] = data['SourceIP'].map(server_mapping)\n"
   ]
  },
  {
   "cell_type": "markdown",
   "id": "4ffbd0fd-80ab-40e3-939c-afda2b49e2e2",
   "metadata": {},
   "source": [
    "# LSTM Sort & Sequence"
   ]
  },
  {
   "cell_type": "code",
   "execution_count": null,
   "id": "6397c095-64c7-4346-9af0-57881b3c221d",
   "metadata": {},
   "outputs": [],
   "source": [
    "# Sort data by user and timestamp\n",
    "data.sort_values(by=['User', 'AdjustedTime'], inplace=True)\n",
    "\n",
    "# Extract features and target\n",
    "features = data[['DataLength', 'ARTT', 'SourceLongitude', 'SourceLatitude', 'DestinationLongitude', 'DestinationLatitude']]\n",
    "labels = data['ServerID']\n",
    "\n",
    "# Scale features\n",
    "scaler = StandardScaler()\n",
    "data[['DataLength', 'ARTT', 'SourceLongitude', 'SourceLatitude', 'DestinationLongitude', 'DestinationLatitude']] = scaler.fit_transform(features)\n",
    "\n",
    "# Group by user to create sequences\n",
    "user_groups = data.groupby('User')\n",
    "X_sequences = []\n",
    "y_sequences = []\n",
    "\n",
    "sequence_length = 60  # Adjust this as needed\n",
    "\n",
    "for user, group in user_groups:\n",
    "    user_features = group[['DataLength', 'ARTT', 'SourceLongitude', 'SourceLatitude', 'DestinationLongitude', 'DestinationLatitude']].values\n",
    "    user_labels = group['ServerID'].values\n",
    "    \n",
    "    # Create rolling sequences\n",
    "    for i in range(len(user_features) - sequence_length + 1):\n",
    "        X_sequences.append(user_features[i:i + sequence_length])\n",
    "        y_sequences.append(user_labels[i + sequence_length - 1])  # Target is last ID in the sequence\n",
    "\n",
    "# Convert lists to numpy arrays\n",
    "X_sequences = pad_sequences(X_sequences, maxlen=sequence_length, dtype='float32')\n",
    "y_sequences = np.array(y_sequences)\n",
    "\n",
    "print(\"Shape of X_sequences:\", X_sequences.shape)\n",
    "print(\"Shape of y_sequences:\", y_sequences.shape)"
   ]
  },
  {
   "cell_type": "markdown",
   "id": "d176d753-2f08-461a-96a4-992eedad9ea8",
   "metadata": {},
   "source": [
    "# Train-Test Split"
   ]
  },
  {
   "cell_type": "code",
   "execution_count": null,
   "id": "ae3de154-8202-415e-98d4-bd7862a7f667",
   "metadata": {},
   "outputs": [],
   "source": [
    "# Split into training and testing\n",
    "X_train, X_test, y_train, y_test = train_test_split(X_sequences, y_sequences, test_size=0.15, random_state=42)\n",
    "\n",
    "print(\"Number of rows in X_train:\", X_train.shape[0])\n",
    "print(\"Number of rows in X_test:\", X_test.shape[0])\n",
    "print(\"Number of rows in y_train:\", len(y_train))\n",
    "print(\"Number of rows in y_test:\", len(y_test))\n",
    "\n",
    "# Added print statement to display the input shape\n",
    "print('Input shape:', (X_train.shape[1], X_train.shape[2]))\n"
   ]
  },
  {
   "cell_type": "markdown",
   "id": "85e88221-ed2c-452f-990f-68f48a2cc3b0",
   "metadata": {},
   "source": [
    "# LSTM Model Defintion"
   ]
  },
  {
   "cell_type": "code",
   "execution_count": null,
   "id": "2d44bf0b-bb3e-4aa9-9d7e-14dc938fc001",
   "metadata": {},
   "outputs": [],
   "source": [
    "# Define LSTM model\n",
    "model = tf.keras.Sequential([\n",
    "    tf.keras.layers.LSTM(64, activation='tanh', input_shape=(X_train.shape[1], X_train.shape[2])),\n",
    "    tf.keras.layers.Dropout(0.2),\n",
    "    tf.keras.layers.Dense(32, activation='tanh'),\n",
    "    tf.keras.layers.Dense(len(unique_servers), activation='softmax')\n",
    "])\n",
    "\n",
    "# Compile model\n",
    "model.compile(optimizer='adam', loss='sparse_categorical_crossentropy', metrics=['accuracy'])\n",
    "\n",
    "# Add EarlyStopping callback\n",
    "early_stopping = tf.keras.callbacks.EarlyStopping(\n",
    "    monitor='val_loss', patience=10, restore_best_weights=True\n",
    ")"
   ]
  },
  {
   "cell_type": "markdown",
   "id": "cb82d7a9-04e4-4e32-b8cc-68372424a138",
   "metadata": {},
   "source": [
    "# Training"
   ]
  },
  {
   "cell_type": "code",
   "execution_count": null,
   "id": "dc12b614-2d92-45cd-9dfb-9e91ef825c47",
   "metadata": {},
   "outputs": [],
   "source": [
    "# Train the model\n",
    "history = model.fit(X_train, y_train, epochs=100, validation_split=0.176, batch_size=32, callbacks=[early_stopping], verbose=1)"
   ]
  },
  {
   "cell_type": "markdown",
   "id": "3463ffa1-5d0b-4cd7-9bb7-41b9fbfad0d6",
   "metadata": {},
   "source": [
    "# Evaluate"
   ]
  },
  {
   "cell_type": "code",
   "execution_count": null,
   "id": "063064fc-d096-46f4-82f1-13ff72ed9918",
   "metadata": {},
   "outputs": [],
   "source": [
    "# Evaluate the model\n",
    "loss, accuracy = model.evaluate(X_test, y_test, verbose=0)\n",
    "print(\"Model accuracy on test set:\", accuracy)"
   ]
  },
  {
   "cell_type": "markdown",
   "id": "109f630e-21f0-4bfe-a35d-02c9877feff0",
   "metadata": {},
   "source": [
    "# Predict and decode"
   ]
  },
  {
   "cell_type": "code",
   "execution_count": null,
   "id": "30dfed5d-610d-4156-ad7b-2537aed11692",
   "metadata": {},
   "outputs": [],
   "source": [
    "# Predictions for visualization\n",
    "y_pred = model.predict(X_test)\n",
    "y_pred_labels = np.argmax(y_pred, axis=1)"
   ]
  },
  {
   "cell_type": "code",
   "execution_count": null,
   "id": "1135f443-8c8c-4e18-bc78-cf734902a7aa",
   "metadata": {},
   "outputs": [],
   "source": [
    "# Generate predictions for the entire dataset\n",
    "y_all_pred = model.predict(X_sequences)\n",
    "y_all_pred_labels = np.argmax(y_all_pred, axis=1)\n",
    "\n",
    "# Map true and predicted ServerIDs to ISP numerical labels\n",
    "y_all_isp_num = [isp_to_num[serverid_to_isp.get(server_id, 'Unknown ISP')] for server_id in y_sequences]\n",
    "y_all_pred_isp_num = [isp_to_num[serverid_to_isp.get(server_id, 'Unknown ISP')] for server_id in y_all_pred_labels]\n",
    "\n",
    "# Generate the confusion matrix\n",
    "conf_matrix_all = confusion_matrix(y_all_isp_num, y_all_pred_isp_num, labels=isp_labels_num)\n",
    "\n",
    "# Calculate the overall accuracy\n",
    "accuracy_all = np.sum(np.array(y_all_isp_num) == np.array(y_all_pred_isp_num)) / len(y_all_isp_num)\n",
    "print(\"Overall Accuracy on All Data:\", accuracy_all)\n",
    "\n",
    "# Plot the confusion matrix for all predictions\n",
    "plt.figure(figsize=(8, 6))  # Reduced figure size\n",
    "disp_all = ConfusionMatrixDisplay(confusion_matrix=conf_matrix_all, display_labels=sorted(isp_to_num.keys()))\n",
    "disp_all.plot(cmap=plt.cm.Blues, ax=plt.gca(), colorbar=False)  # Disable colorbar if not needed\n",
    "\n",
    "# Customize the font size\n",
    "plt.xlabel(\"Assigned Server\", fontsize=12)\n",
    "plt.ylabel(\"Best Server\", fontsize=12)\n",
    "plt.xticks(fontsize=10, rotation=45)\n",
    "plt.yticks(fontsize=10)\n",
    "\n",
    "# Adjust text size inside cells\n",
    "for texts in disp_all.text_.ravel():\n",
    "    texts.set_fontsize(10)\n",
    "\n",
    "plt.tight_layout()  # Ensure the plot fits well\n",
    "plt.show()\n"
   ]
  },
  {
   "cell_type": "code",
   "execution_count": null,
   "id": "8ec47a0b-0be6-4f80-b045-a3d1b2fa693a",
   "metadata": {},
   "outputs": [],
   "source": [
    "import pandas as pd\n",
    "import numpy as np\n",
    "from haversine import haversine, Unit  # Ensure this is installed\n",
    "import matplotlib.pyplot as plt\n",
    "\n",
    "# Save predictions and true labels\n",
    "output_file = r'C:\\Users\\LSTMPredictions.csv'\n",
    "\n",
    "# Create a DataFrame to save true labels, predicted labels, and related info\n",
    "results_df = pd.DataFrame({\n",
    "    'True ServerID': y_sequences,\n",
    "    'Predicted ServerID': y_all_pred_labels,\n",
    "    'True ISP': [serverid_to_isp.get(server_id, 'Unknown ISP') for server_id in y_sequences],\n",
    "    'Predicted ISP': [serverid_to_isp.get(server_id, 'Unknown ISP') for server_id in y_all_pred_labels],\n",
    "    'True Latitude': [data.loc[data['ServerID'] == server_id, 'SourceLatitude'].iloc[0] for server_id in y_sequences],\n",
    "    'True Longitude': [data.loc[data['ServerID'] == server_id, 'SourceLongitude'].iloc[0] for server_id in y_sequences],\n",
    "    'Predicted Latitude': [data.loc[data['ServerID'] == server_id, 'SourceLatitude'].iloc[0] for server_id in y_all_pred_labels],\n",
    "    'Predicted Longitude': [data.loc[data['ServerID'] == server_id, 'SourceLongitude'].iloc[0] for server_id in y_all_pred_labels],\n",
    "    'Destination Latitude': [data.loc[data['ServerID'] == server_id, 'DestinationLatitude'].iloc[0] for server_id in y_sequences],\n",
    "    'Destination Longitude': [data.loc[data['ServerID'] == server_id, 'DestinationLongitude'].iloc[0] for server_id in y_sequences],\n",
    "})\n",
    "\n",
    "# Save to CSV\n",
    "results_df.to_csv(output_file, index=False)\n",
    "print(f\"Results saved to {output_file}\")\n"
   ]
  }
 ],
 "metadata": {
  "kernelspec": {
   "display_name": "Python 3 (ipykernel)",
   "language": "python",
   "name": "python3"
  },
  "language_info": {
   "codemirror_mode": {
    "name": "ipython",
    "version": 3
   },
   "file_extension": ".py",
   "mimetype": "text/x-python",
   "name": "python",
   "nbconvert_exporter": "python",
   "pygments_lexer": "ipython3",
   "version": "3.9.18"
  }
 },
 "nbformat": 4,
 "nbformat_minor": 5
}
