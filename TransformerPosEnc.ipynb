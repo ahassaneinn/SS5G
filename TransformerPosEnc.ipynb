{
 "cells": [
  {
   "cell_type": "markdown",
   "id": "3bddfae3-6227-461d-8fa3-0343779225b6",
   "metadata": {},
   "source": [
    "# Libraries"
   ]
  },
  {
   "cell_type": "code",
   "execution_count": null,
   "id": "1eaca4fa-6c25-4d00-895d-ff04fecd6d85",
   "metadata": {},
   "outputs": [],
   "source": [
    "import pandas as pd\n",
    "import numpy as np\n",
    "from sklearn.model_selection import train_test_split\n",
    "from sklearn.preprocessing import StandardScaler, LabelEncoder\n",
    "from sklearn.metrics import confusion_matrix, ConfusionMatrixDisplay\n",
    "import tensorflow as tf\n",
    "import matplotlib.pyplot as plt\n",
    "from tensorflow.keras.preprocessing.sequence import pad_sequences"
   ]
  },
  {
   "cell_type": "markdown",
   "id": "b79a634b-8abc-44f8-ae55-1bbc265e6444",
   "metadata": {},
   "source": [
    "# Load Data"
   ]
  },
  {
   "cell_type": "code",
   "execution_count": null,
   "id": "5d793b07-7ac9-4146-b855-86bf0a7d22b9",
   "metadata": {},
   "outputs": [],
   "source": [
    "# Load and preprocess data\n",
    "file_path = r'C:\\Users\\File.csv'\n",
    "data = pd.read_csv(file_path)\n",
    "data = data.dropna(subset=['Org'])"
   ]
  },
  {
   "cell_type": "markdown",
   "id": "ad2472db-a403-4822-90f4-5a7e490a5fc3",
   "metadata": {},
   "source": [
    "# Data Mapping"
   ]
  },
  {
   "cell_type": "code",
   "execution_count": null,
   "id": "1e6d2a13-4b05-47ee-a3f0-91c1f7c60c3f",
   "metadata": {},
   "outputs": [],
   "source": [
    "# Map each unique 'Source' IP to a Server ID\n",
    "unique_servers = data['Source'].unique()\n",
    "server_mapping = {ip: idx for idx, ip in enumerate(unique_servers)}\n",
    "data['ServerID'] = data['Source'].map(server_mapping)\n",
    "print(\"\\nServer Mapping (Source IP to Server ID):\")\n",
    "print(server_mapping)"
   ]
  },
  {
   "cell_type": "markdown",
   "id": "4ffbd0fd-80ab-40e3-939c-afda2b49e2e2",
   "metadata": {},
   "source": [
    "# Sort & Sequence"
   ]
  },
  {
   "cell_type": "code",
   "execution_count": null,
   "id": "6397c095-64c7-4346-9af0-57881b3c221d",
   "metadata": {},
   "outputs": [],
   "source": [
    "# Convert AdjustedTime to numeric format\n",
    "data['AdjustedTime'] = pd.to_datetime(data['AdjustedTime']).astype('int64') // 10**9  # Convert to seconds\n",
    "\n",
    "# Encode categorical columns\n",
    "label_encoders = {}\n",
    "categorical_cols = ['Protocol', 'Connection', 'User', 'Org']\n",
    "for col in categorical_cols:\n",
    "    label_encoders[col] = LabelEncoder()\n",
    "    data[col] = label_encoders[col].fit_transform(data[col])\n",
    "\n",
    "# Define feature and target columns\n",
    "features = ['AdjustedTime', 'Protocol', 'Connection', 'User', 'Length', 'ARTT', 'Longitude', 'Latitude', 'Org']\n",
    "labels = 'ServerID'\n",
    "\n",
    "# Scale features\n",
    "scaler = StandardScaler()\n",
    "data[features] = scaler.fit_transform(data[features])\n",
    "\n",
    "# Group by user to create sequences\n",
    "user_groups = data.groupby('User')\n",
    "X_sequences = []\n",
    "y_sequences = []\n",
    "sequence_length = 60\n",
    "\n",
    "for user, group in user_groups:\n",
    "    user_features = group[features].values\n",
    "    user_labels = group[labels].values\n",
    "    \n",
    "    # Create rolling sequences\n",
    "    for i in range(len(user_features) - sequence_length + 1):\n",
    "        X_sequences.append(user_features[i:i + sequence_length])\n",
    "        y_sequences.append(user_labels[i + sequence_length - 1])  # Target is last ID in the sequence\n",
    "\n",
    "# Convert lists to numpy arrays\n",
    "X_sequences = pad_sequences(X_sequences, maxlen=sequence_length, dtype='float32')\n",
    "y_sequences = np.array(y_sequences)\n"
   ]
  },
  {
   "cell_type": "markdown",
   "id": "d176d753-2f08-461a-96a4-992eedad9ea8",
   "metadata": {},
   "source": [
    "# Train-Test Split"
   ]
  },
  {
   "cell_type": "code",
   "execution_count": null,
   "id": "ae3de154-8202-415e-98d4-bd7862a7f667",
   "metadata": {},
   "outputs": [],
   "source": [
    "# Split into training and testing\n",
    "X_train, X_test, y_train, y_test = train_test_split(X_sequences, y_sequences, test_size=0.15, random_state=42)"
   ]
  },
  {
   "cell_type": "markdown",
   "id": "85e88221-ed2c-452f-990f-68f48a2cc3b0",
   "metadata": {},
   "source": [
    "# Transformer Model Defintion"
   ]
  },
  {
   "cell_type": "code",
   "execution_count": null,
   "id": "2d44bf0b-bb3e-4aa9-9d7e-14dc938fc001",
   "metadata": {},
   "outputs": [],
   "source": [
    "import numpy as np\n",
    "import tensorflow as tf\n",
    "from tensorflow.keras.layers import Input, Dense, Dropout, LayerNormalization, MultiHeadAttention, GlobalAveragePooling1D, Lambda\n",
    "from tensorflow.keras.models import Model\n",
    "\n",
    "# Positional Encoding Function\n",
    "def positional_encoding(sequence_length, feature_dim):\n",
    "    positions = np.arange(sequence_length)[:, np.newaxis]  # Shape: (sequence_length, 1)\n",
    "    dimensions = np.arange(feature_dim)[np.newaxis, :]  # Shape: (1, feature_dim)\n",
    "    \n",
    "    angle_rates = 1 / np.power(10000, (2 * (dimensions // 2)) / np.float32(feature_dim))\n",
    "    angle_rads = positions * angle_rates\n",
    "\n",
    "    # Apply sin to even indices and cos to odd indices\n",
    "    angle_rads[:, 0::2] = np.sin(angle_rads[:, 0::2])\n",
    "    angle_rads[:, 1::2] = np.cos(angle_rads[:, 1::2])\n",
    "\n",
    "    return tf.cast(angle_rads, dtype=tf.float32)\n",
    "\n",
    "# Transformer Encoder Block\n",
    "class TransformerEncoder(tf.keras.layers.Layer):\n",
    "    def __init__(self, embed_dim, num_heads, ff_dim, dropout=0.1):\n",
    "        super(TransformerEncoder, self).__init__()\n",
    "        self.attention = MultiHeadAttention(num_heads=num_heads, key_dim=embed_dim)\n",
    "        self.norm1 = LayerNormalization(epsilon=1e-6)\n",
    "        self.norm2 = LayerNormalization(epsilon=1e-6)\n",
    "        self.dropout1 = Dropout(dropout)\n",
    "        self.dropout2 = Dropout(dropout)\n",
    "        self.ffn = tf.keras.Sequential([\n",
    "            Dense(ff_dim, activation=\"relu\"),\n",
    "            Dense(embed_dim)\n",
    "        ])\n",
    "\n",
    "    def call(self, inputs, training=False):\n",
    "        attn_output = self.attention(inputs, inputs)  # Self-attention\n",
    "        attn_output = self.dropout1(attn_output, training=training)\n",
    "        out1 = self.norm1(inputs + attn_output)  # Skip connection + Norm\n",
    "        \n",
    "        ffn_output = self.ffn(out1)  # Feed-forward\n",
    "        ffn_output = self.dropout2(ffn_output, training=training)\n",
    "        return self.norm2(out1 + ffn_output)  # Final skip connection + Norm\n",
    "\n",
    "# Model Architecture\n",
    "sequence_length = X_train.shape[1]  # 60\n",
    "feature_dim = X_train.shape[2]  # 9 (assuming 9 features per time step)\n",
    "num_classes = len(unique_servers)\n",
    "\n",
    "# Encoder Input\n",
    "encoder_inputs = Input(shape=(sequence_length, feature_dim))\n",
    "\n",
    "# Apply Positional Encoding as a Layer\n",
    "pos_encoding = positional_encoding(sequence_length, feature_dim)\n",
    "pos_encoding_layer = Lambda(lambda x: x + pos_encoding)(encoder_inputs)\n",
    "\n",
    "# Stack Transformer Encoder Blocks\n",
    "encoder_output = TransformerEncoder(embed_dim=feature_dim, num_heads=4, ff_dim=128)(pos_encoding_layer)\n",
    "encoder_output = TransformerEncoder(embed_dim=feature_dim, num_heads=4, ff_dim=128)(encoder_output)\n",
    "\n",
    "# Global Average Pooling to reduce sequence dimension\n",
    "encoder_output = GlobalAveragePooling1D()(encoder_output)\n",
    "\n",
    "# Fully connected layers\n",
    "x = Dense(64, activation='relu')(encoder_output)\n",
    "x = Dropout(0.2)(x)\n",
    "x = Dense(32, activation='relu')(x)\n",
    "outputs = Dense(num_classes, activation='softmax')(x)\n",
    "\n",
    "# Define the model (Single input now)\n",
    "model = Model(encoder_inputs, outputs)\n",
    "\n",
    "# Compile the model\n",
    "model.compile(optimizer='adam', loss='sparse_categorical_crossentropy', metrics=['accuracy'])\n",
    "\n",
    "# Print model summary\n",
    "model.summary()\n"
   ]
  },
  {
   "cell_type": "markdown",
   "id": "cb82d7a9-04e4-4e32-b8cc-68372424a138",
   "metadata": {},
   "source": [
    "# Training"
   ]
  },
  {
   "cell_type": "code",
   "execution_count": null,
   "id": "dc12b614-2d92-45cd-9dfb-9e91ef825c47",
   "metadata": {},
   "outputs": [],
   "source": [
    "# Train the model\n",
    "history = model.fit(X_train, y_train, epochs=10, validation_split=0.176, batch_size=32, verbose=1)"
   ]
  },
  {
   "cell_type": "markdown",
   "id": "3463ffa1-5d0b-4cd7-9bb7-41b9fbfad0d6",
   "metadata": {},
   "source": [
    "# Evaluate"
   ]
  },
  {
   "cell_type": "code",
   "execution_count": null,
   "id": "063064fc-d096-46f4-82f1-13ff72ed9918",
   "metadata": {},
   "outputs": [],
   "source": [
    "# Evaluate the model\n",
    "loss, accuracy = model.evaluate(X_test, y_test, verbose=0)\n",
    "print(\"Model accuracy on test set:\", accuracy)"
   ]
  }
 ],
 "metadata": {
  "kernelspec": {
   "display_name": "Python 3 (ipykernel)",
   "language": "python",
   "name": "python3"
  },
  "language_info": {
   "codemirror_mode": {
    "name": "ipython",
    "version": 3
   },
   "file_extension": ".py",
   "mimetype": "text/x-python",
   "name": "python",
   "nbconvert_exporter": "python",
   "pygments_lexer": "ipython3",
   "version": "3.9.18"
  }
 },
 "nbformat": 4,
 "nbformat_minor": 5
}
